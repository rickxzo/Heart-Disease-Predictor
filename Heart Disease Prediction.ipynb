{
 "cells": [
  {
   "cell_type": "markdown",
   "id": "21ba3288-366b-49f7-8be5-96a57bc091c4",
   "metadata": {},
   "source": [
    "# Project Name: Heart Disease Predictor"
   ]
  },
  {
   "cell_type": "markdown",
   "id": "58b95309-feb5-4623-a582-fcf4aa4a8b0c",
   "metadata": {},
   "source": [
    "### Goal: To predict if one is prone to developing CHD within the next decade."
   ]
  },
  {
   "cell_type": "markdown",
   "id": "4d3362c8-1942-4b90-a94c-34e71d13e6f2",
   "metadata": {},
   "source": [
    "**Dataset** = Geeks for Geeks cardiovascular study dataset ( https://media.geeksforgeeks.org/wp-content/uploads/20240307152534/framingham.csv )"
   ]
  },
  {
   "cell_type": "markdown",
   "id": "eaba814e-ed1b-428e-afa6-70d935788513",
   "metadata": {},
   "source": [
    "**About the Project**: Heart Diseases are extremely common these days, and also may prove to be fatal when treated late. So, its important to detect a possibility of a heart disease developing in the future, so that we can take early steps by changing our lifestyle and also medications in necessary to avoid any worse scenario.\n",
    "        \n",
    "To facilitate this, we design a Machine Learning Model, which will be provided with data regarding various determmining factors, and will provise us with assistance in recognising a possibility of developing a Heart Disease in the future."
   ]
  },
  {
   "cell_type": "markdown",
   "id": "a6695892-ec98-4996-82b1-f81f0d11d837",
   "metadata": {},
   "source": [
    "#### Section 1: Collecting the Data"
   ]
  },
  {
   "cell_type": "code",
   "execution_count": 1,
   "id": "885dba92-c918-43eb-970c-1704a64a1c8e",
   "metadata": {
    "scrolled": true
   },
   "outputs": [
    {
     "data": {
      "text/html": [
       "<div>\n",
       "<style scoped>\n",
       "    .dataframe tbody tr th:only-of-type {\n",
       "        vertical-align: middle;\n",
       "    }\n",
       "\n",
       "    .dataframe tbody tr th {\n",
       "        vertical-align: top;\n",
       "    }\n",
       "\n",
       "    .dataframe thead th {\n",
       "        text-align: right;\n",
       "    }\n",
       "</style>\n",
       "<table border=\"1\" class=\"dataframe\">\n",
       "  <thead>\n",
       "    <tr style=\"text-align: right;\">\n",
       "      <th></th>\n",
       "      <th>male</th>\n",
       "      <th>age</th>\n",
       "      <th>education</th>\n",
       "      <th>currentSmoker</th>\n",
       "      <th>cigsPerDay</th>\n",
       "      <th>BPMeds</th>\n",
       "      <th>prevalentStroke</th>\n",
       "      <th>prevalentHyp</th>\n",
       "      <th>diabetes</th>\n",
       "      <th>totChol</th>\n",
       "      <th>sysBP</th>\n",
       "      <th>diaBP</th>\n",
       "      <th>BMI</th>\n",
       "      <th>heartRate</th>\n",
       "      <th>glucose</th>\n",
       "      <th>TenYearCHD</th>\n",
       "    </tr>\n",
       "  </thead>\n",
       "  <tbody>\n",
       "    <tr>\n",
       "      <th>0</th>\n",
       "      <td>1</td>\n",
       "      <td>39</td>\n",
       "      <td>4.0</td>\n",
       "      <td>0</td>\n",
       "      <td>0.0</td>\n",
       "      <td>0.0</td>\n",
       "      <td>0</td>\n",
       "      <td>0</td>\n",
       "      <td>0</td>\n",
       "      <td>195.0</td>\n",
       "      <td>106.0</td>\n",
       "      <td>70.0</td>\n",
       "      <td>26.97</td>\n",
       "      <td>80.0</td>\n",
       "      <td>77.0</td>\n",
       "      <td>0</td>\n",
       "    </tr>\n",
       "    <tr>\n",
       "      <th>1</th>\n",
       "      <td>0</td>\n",
       "      <td>46</td>\n",
       "      <td>2.0</td>\n",
       "      <td>0</td>\n",
       "      <td>0.0</td>\n",
       "      <td>0.0</td>\n",
       "      <td>0</td>\n",
       "      <td>0</td>\n",
       "      <td>0</td>\n",
       "      <td>250.0</td>\n",
       "      <td>121.0</td>\n",
       "      <td>81.0</td>\n",
       "      <td>28.73</td>\n",
       "      <td>95.0</td>\n",
       "      <td>76.0</td>\n",
       "      <td>0</td>\n",
       "    </tr>\n",
       "    <tr>\n",
       "      <th>2</th>\n",
       "      <td>1</td>\n",
       "      <td>48</td>\n",
       "      <td>1.0</td>\n",
       "      <td>1</td>\n",
       "      <td>20.0</td>\n",
       "      <td>0.0</td>\n",
       "      <td>0</td>\n",
       "      <td>0</td>\n",
       "      <td>0</td>\n",
       "      <td>245.0</td>\n",
       "      <td>127.5</td>\n",
       "      <td>80.0</td>\n",
       "      <td>25.34</td>\n",
       "      <td>75.0</td>\n",
       "      <td>70.0</td>\n",
       "      <td>0</td>\n",
       "    </tr>\n",
       "    <tr>\n",
       "      <th>3</th>\n",
       "      <td>0</td>\n",
       "      <td>61</td>\n",
       "      <td>3.0</td>\n",
       "      <td>1</td>\n",
       "      <td>30.0</td>\n",
       "      <td>0.0</td>\n",
       "      <td>0</td>\n",
       "      <td>1</td>\n",
       "      <td>0</td>\n",
       "      <td>225.0</td>\n",
       "      <td>150.0</td>\n",
       "      <td>95.0</td>\n",
       "      <td>28.58</td>\n",
       "      <td>65.0</td>\n",
       "      <td>103.0</td>\n",
       "      <td>1</td>\n",
       "    </tr>\n",
       "    <tr>\n",
       "      <th>4</th>\n",
       "      <td>0</td>\n",
       "      <td>46</td>\n",
       "      <td>3.0</td>\n",
       "      <td>1</td>\n",
       "      <td>23.0</td>\n",
       "      <td>0.0</td>\n",
       "      <td>0</td>\n",
       "      <td>0</td>\n",
       "      <td>0</td>\n",
       "      <td>285.0</td>\n",
       "      <td>130.0</td>\n",
       "      <td>84.0</td>\n",
       "      <td>23.10</td>\n",
       "      <td>85.0</td>\n",
       "      <td>85.0</td>\n",
       "      <td>0</td>\n",
       "    </tr>\n",
       "    <tr>\n",
       "      <th>...</th>\n",
       "      <td>...</td>\n",
       "      <td>...</td>\n",
       "      <td>...</td>\n",
       "      <td>...</td>\n",
       "      <td>...</td>\n",
       "      <td>...</td>\n",
       "      <td>...</td>\n",
       "      <td>...</td>\n",
       "      <td>...</td>\n",
       "      <td>...</td>\n",
       "      <td>...</td>\n",
       "      <td>...</td>\n",
       "      <td>...</td>\n",
       "      <td>...</td>\n",
       "      <td>...</td>\n",
       "      <td>...</td>\n",
       "    </tr>\n",
       "    <tr>\n",
       "      <th>4233</th>\n",
       "      <td>1</td>\n",
       "      <td>50</td>\n",
       "      <td>1.0</td>\n",
       "      <td>1</td>\n",
       "      <td>1.0</td>\n",
       "      <td>0.0</td>\n",
       "      <td>0</td>\n",
       "      <td>1</td>\n",
       "      <td>0</td>\n",
       "      <td>313.0</td>\n",
       "      <td>179.0</td>\n",
       "      <td>92.0</td>\n",
       "      <td>25.97</td>\n",
       "      <td>66.0</td>\n",
       "      <td>86.0</td>\n",
       "      <td>1</td>\n",
       "    </tr>\n",
       "    <tr>\n",
       "      <th>4234</th>\n",
       "      <td>1</td>\n",
       "      <td>51</td>\n",
       "      <td>3.0</td>\n",
       "      <td>1</td>\n",
       "      <td>43.0</td>\n",
       "      <td>0.0</td>\n",
       "      <td>0</td>\n",
       "      <td>0</td>\n",
       "      <td>0</td>\n",
       "      <td>207.0</td>\n",
       "      <td>126.5</td>\n",
       "      <td>80.0</td>\n",
       "      <td>19.71</td>\n",
       "      <td>65.0</td>\n",
       "      <td>68.0</td>\n",
       "      <td>0</td>\n",
       "    </tr>\n",
       "    <tr>\n",
       "      <th>4237</th>\n",
       "      <td>0</td>\n",
       "      <td>52</td>\n",
       "      <td>2.0</td>\n",
       "      <td>0</td>\n",
       "      <td>0.0</td>\n",
       "      <td>0.0</td>\n",
       "      <td>0</td>\n",
       "      <td>0</td>\n",
       "      <td>0</td>\n",
       "      <td>269.0</td>\n",
       "      <td>133.5</td>\n",
       "      <td>83.0</td>\n",
       "      <td>21.47</td>\n",
       "      <td>80.0</td>\n",
       "      <td>107.0</td>\n",
       "      <td>0</td>\n",
       "    </tr>\n",
       "    <tr>\n",
       "      <th>4238</th>\n",
       "      <td>1</td>\n",
       "      <td>40</td>\n",
       "      <td>3.0</td>\n",
       "      <td>0</td>\n",
       "      <td>0.0</td>\n",
       "      <td>0.0</td>\n",
       "      <td>0</td>\n",
       "      <td>1</td>\n",
       "      <td>0</td>\n",
       "      <td>185.0</td>\n",
       "      <td>141.0</td>\n",
       "      <td>98.0</td>\n",
       "      <td>25.60</td>\n",
       "      <td>67.0</td>\n",
       "      <td>72.0</td>\n",
       "      <td>0</td>\n",
       "    </tr>\n",
       "    <tr>\n",
       "      <th>4239</th>\n",
       "      <td>0</td>\n",
       "      <td>39</td>\n",
       "      <td>3.0</td>\n",
       "      <td>1</td>\n",
       "      <td>30.0</td>\n",
       "      <td>0.0</td>\n",
       "      <td>0</td>\n",
       "      <td>0</td>\n",
       "      <td>0</td>\n",
       "      <td>196.0</td>\n",
       "      <td>133.0</td>\n",
       "      <td>86.0</td>\n",
       "      <td>20.91</td>\n",
       "      <td>85.0</td>\n",
       "      <td>80.0</td>\n",
       "      <td>0</td>\n",
       "    </tr>\n",
       "  </tbody>\n",
       "</table>\n",
       "<p>3658 rows × 16 columns</p>\n",
       "</div>"
      ],
      "text/plain": [
       "      male  age  education  currentSmoker  cigsPerDay  BPMeds  \\\n",
       "0        1   39        4.0              0         0.0     0.0   \n",
       "1        0   46        2.0              0         0.0     0.0   \n",
       "2        1   48        1.0              1        20.0     0.0   \n",
       "3        0   61        3.0              1        30.0     0.0   \n",
       "4        0   46        3.0              1        23.0     0.0   \n",
       "...    ...  ...        ...            ...         ...     ...   \n",
       "4233     1   50        1.0              1         1.0     0.0   \n",
       "4234     1   51        3.0              1        43.0     0.0   \n",
       "4237     0   52        2.0              0         0.0     0.0   \n",
       "4238     1   40        3.0              0         0.0     0.0   \n",
       "4239     0   39        3.0              1        30.0     0.0   \n",
       "\n",
       "      prevalentStroke  prevalentHyp  diabetes  totChol  sysBP  diaBP    BMI  \\\n",
       "0                   0             0         0    195.0  106.0   70.0  26.97   \n",
       "1                   0             0         0    250.0  121.0   81.0  28.73   \n",
       "2                   0             0         0    245.0  127.5   80.0  25.34   \n",
       "3                   0             1         0    225.0  150.0   95.0  28.58   \n",
       "4                   0             0         0    285.0  130.0   84.0  23.10   \n",
       "...               ...           ...       ...      ...    ...    ...    ...   \n",
       "4233                0             1         0    313.0  179.0   92.0  25.97   \n",
       "4234                0             0         0    207.0  126.5   80.0  19.71   \n",
       "4237                0             0         0    269.0  133.5   83.0  21.47   \n",
       "4238                0             1         0    185.0  141.0   98.0  25.60   \n",
       "4239                0             0         0    196.0  133.0   86.0  20.91   \n",
       "\n",
       "      heartRate  glucose  TenYearCHD  \n",
       "0          80.0     77.0           0  \n",
       "1          95.0     76.0           0  \n",
       "2          75.0     70.0           0  \n",
       "3          65.0    103.0           1  \n",
       "4          85.0     85.0           0  \n",
       "...         ...      ...         ...  \n",
       "4233       66.0     86.0           1  \n",
       "4234       65.0     68.0           0  \n",
       "4237       80.0    107.0           0  \n",
       "4238       67.0     72.0           0  \n",
       "4239       85.0     80.0           0  \n",
       "\n",
       "[3658 rows x 16 columns]"
      ]
     },
     "execution_count": 1,
     "metadata": {},
     "output_type": "execute_result"
    }
   ],
   "source": [
    "import pandas as pd\n",
    "import numpy as np\n",
    "import matplotlib.pyplot as plt\n",
    "import seaborn as sns\n",
    "data = pd.read_csv(r\"C:\\Users\\goura\\Desktop\\Data Science\\Datasets\\Heart Disease.csv\")\n",
    "data.dropna(axis = 0, inplace = True)\n",
    "data"
   ]
  },
  {
   "cell_type": "markdown",
   "id": "e4e305c2-40f7-4bbf-a810-3863e23e6ebb",
   "metadata": {},
   "source": [
    "### Section 2: Data Manipulation / Cleaning"
   ]
  },
  {
   "cell_type": "code",
   "execution_count": 2,
   "id": "011779e4-9b59-45d5-8751-ec54212c833d",
   "metadata": {},
   "outputs": [],
   "source": [
    "columns = [ i for i in data.columns ]\n",
    "features = columns [:-1]\n",
    "label = columns [-1]"
   ]
  },
  {
   "cell_type": "code",
   "execution_count": 3,
   "id": "f3224b82-ed3b-401c-b9a3-2942204974e7",
   "metadata": {},
   "outputs": [
    {
     "data": {
      "image/png": "[encoded data removed]",
      "text/plain": [
       "<Figure size 600x400 with 1 Axes>"
      ]
     },
     "metadata": {},
     "output_type": "display_data"
    }
   ],
   "source": [
    "counts = data[label].value_counts()\n",
    "temp_df = pd.DataFrame({\n",
    "    \"Heart Disease\": counts.index,\n",
    "    \"Counts\": counts.values})\n",
    "palette = sns.color_palette(\"Blues\", len(temp_df))\n",
    "plt.figure(figsize=(6,4))\n",
    "sns.barplot(x = \"Heart Disease\", y = \"Counts\", data = temp_df,palette=palette)\n",
    "plt.xticks(rotation=90)\n",
    "plt.show()"
   ]
  },
  {
   "cell_type": "code",
   "execution_count": 4,
   "id": "468d02eb-e2de-4eb7-aaee-d80d0d74a612",
   "metadata": {},
   "outputs": [
    {
     "data": {
      "text/plain": [
       "TenYearCHD\n",
       "0    3101\n",
       "1     557\n",
       "Name: count, dtype: int64"
      ]
     },
     "execution_count": 4,
     "metadata": {},
     "output_type": "execute_result"
    }
   ],
   "source": [
    "data[label].value_counts()"
   ]
  },
  {
   "cell_type": "markdown",
   "id": "97179a60-5f5a-4e88-b17b-f8b65ef28e67",
   "metadata": {},
   "source": [
    "We can see there's a disparity is the number of instances between the label values, with one value constituting over 80% of the instances.<br>\n",
    "This may cause a bit of bias during our prediction, leading to incorrect predictions when the actual value should be 1."
   ]
  },
  {
   "cell_type": "markdown",
   "id": "28f06301-a509-47ed-9243-393c5930fb9e",
   "metadata": {},
   "source": [
    "We need to split the data into different parts, on the basis of\n",
    "* Features, Label [ to distinguish the columns used to make predictions and the column to be predicted ]\n",
    "* Train, Test [ to distinguish data we will train our model on and data we will test the trained model on ]"
   ]
  },
  {
   "cell_type": "markdown",
   "id": "94b3c5cd-d536-4545-a9e5-162868ffd610",
   "metadata": {},
   "source": [
    "We will use the **Stratified Shuffle Split**, due to such splits being a representatinve of the entire dataset."
   ]
  },
  {
   "cell_type": "code",
   "execution_count": 5,
   "id": "ac73caa1-0ec4-4024-91ef-5aceddea8774",
   "metadata": {},
   "outputs": [],
   "source": [
    "from sklearn.model_selection import StratifiedShuffleSplit\n",
    "split = StratifiedShuffleSplit(n_splits = 1, test_size = 0.2, random_state = 42)\n",
    "for train_index, test_index in split.split(data, data[label]):\n",
    "    train_set = data.iloc[train_index]\n",
    "    test_set = data.iloc[test_index]"
   ]
  },
  {
   "cell_type": "code",
   "execution_count": 6,
   "id": "58ea56dc-5da0-40a9-9ef8-2ebf56aa6268",
   "metadata": {},
   "outputs": [],
   "source": [
    "X_train = train_set[features]\n",
    "X_test = test_set[features]\n",
    "Y_train = train_set[label]\n",
    "Y_test = test_set[label]\n",
    "X = pd.concat([X_train,X_test])\n",
    "Y = pd.concat([Y_train,Y_test])"
   ]
  },
  {
   "cell_type": "code",
   "execution_count": 7,
   "id": "2ad0218f-4837-4884-a2d7-430db03311f7",
   "metadata": {},
   "outputs": [
    {
     "data": {
      "text/html": [
       "<div>\n",
       "<style scoped>\n",
       "    .dataframe tbody tr th:only-of-type {\n",
       "        vertical-align: middle;\n",
       "    }\n",
       "\n",
       "    .dataframe tbody tr th {\n",
       "        vertical-align: top;\n",
       "    }\n",
       "\n",
       "    .dataframe thead th {\n",
       "        text-align: right;\n",
       "    }\n",
       "</style>\n",
       "<table border=\"1\" class=\"dataframe\">\n",
       "  <thead>\n",
       "    <tr style=\"text-align: right;\">\n",
       "      <th></th>\n",
       "      <th>male</th>\n",
       "      <th>age</th>\n",
       "      <th>education</th>\n",
       "      <th>currentSmoker</th>\n",
       "      <th>cigsPerDay</th>\n",
       "      <th>BPMeds</th>\n",
       "      <th>prevalentStroke</th>\n",
       "      <th>prevalentHyp</th>\n",
       "      <th>diabetes</th>\n",
       "      <th>totChol</th>\n",
       "      <th>sysBP</th>\n",
       "      <th>diaBP</th>\n",
       "      <th>BMI</th>\n",
       "      <th>heartRate</th>\n",
       "      <th>glucose</th>\n",
       "    </tr>\n",
       "  </thead>\n",
       "  <tbody>\n",
       "    <tr>\n",
       "      <th>3492</th>\n",
       "      <td>1</td>\n",
       "      <td>38</td>\n",
       "      <td>1.0</td>\n",
       "      <td>1</td>\n",
       "      <td>30.0</td>\n",
       "      <td>0.0</td>\n",
       "      <td>0</td>\n",
       "      <td>0</td>\n",
       "      <td>0</td>\n",
       "      <td>281.0</td>\n",
       "      <td>111.0</td>\n",
       "      <td>72.5</td>\n",
       "      <td>27.22</td>\n",
       "      <td>95.0</td>\n",
       "      <td>80.0</td>\n",
       "    </tr>\n",
       "    <tr>\n",
       "      <th>990</th>\n",
       "      <td>1</td>\n",
       "      <td>39</td>\n",
       "      <td>2.0</td>\n",
       "      <td>0</td>\n",
       "      <td>0.0</td>\n",
       "      <td>0.0</td>\n",
       "      <td>0</td>\n",
       "      <td>0</td>\n",
       "      <td>0</td>\n",
       "      <td>247.0</td>\n",
       "      <td>113.0</td>\n",
       "      <td>80.0</td>\n",
       "      <td>28.59</td>\n",
       "      <td>80.0</td>\n",
       "      <td>82.0</td>\n",
       "    </tr>\n",
       "    <tr>\n",
       "      <th>3091</th>\n",
       "      <td>1</td>\n",
       "      <td>53</td>\n",
       "      <td>3.0</td>\n",
       "      <td>1</td>\n",
       "      <td>20.0</td>\n",
       "      <td>0.0</td>\n",
       "      <td>0</td>\n",
       "      <td>1</td>\n",
       "      <td>0</td>\n",
       "      <td>204.0</td>\n",
       "      <td>152.0</td>\n",
       "      <td>74.0</td>\n",
       "      <td>24.80</td>\n",
       "      <td>78.0</td>\n",
       "      <td>89.0</td>\n",
       "    </tr>\n",
       "    <tr>\n",
       "      <th>417</th>\n",
       "      <td>0</td>\n",
       "      <td>45</td>\n",
       "      <td>2.0</td>\n",
       "      <td>0</td>\n",
       "      <td>0.0</td>\n",
       "      <td>0.0</td>\n",
       "      <td>0</td>\n",
       "      <td>1</td>\n",
       "      <td>0</td>\n",
       "      <td>304.0</td>\n",
       "      <td>148.0</td>\n",
       "      <td>106.0</td>\n",
       "      <td>22.98</td>\n",
       "      <td>98.0</td>\n",
       "      <td>72.0</td>\n",
       "    </tr>\n",
       "    <tr>\n",
       "      <th>808</th>\n",
       "      <td>0</td>\n",
       "      <td>47</td>\n",
       "      <td>2.0</td>\n",
       "      <td>1</td>\n",
       "      <td>10.0</td>\n",
       "      <td>0.0</td>\n",
       "      <td>0</td>\n",
       "      <td>0</td>\n",
       "      <td>0</td>\n",
       "      <td>191.0</td>\n",
       "      <td>125.0</td>\n",
       "      <td>72.5</td>\n",
       "      <td>23.81</td>\n",
       "      <td>75.0</td>\n",
       "      <td>85.0</td>\n",
       "    </tr>\n",
       "    <tr>\n",
       "      <th>...</th>\n",
       "      <td>...</td>\n",
       "      <td>...</td>\n",
       "      <td>...</td>\n",
       "      <td>...</td>\n",
       "      <td>...</td>\n",
       "      <td>...</td>\n",
       "      <td>...</td>\n",
       "      <td>...</td>\n",
       "      <td>...</td>\n",
       "      <td>...</td>\n",
       "      <td>...</td>\n",
       "      <td>...</td>\n",
       "      <td>...</td>\n",
       "      <td>...</td>\n",
       "      <td>...</td>\n",
       "    </tr>\n",
       "    <tr>\n",
       "      <th>2005</th>\n",
       "      <td>1</td>\n",
       "      <td>36</td>\n",
       "      <td>1.0</td>\n",
       "      <td>1</td>\n",
       "      <td>15.0</td>\n",
       "      <td>0.0</td>\n",
       "      <td>0</td>\n",
       "      <td>0</td>\n",
       "      <td>0</td>\n",
       "      <td>300.0</td>\n",
       "      <td>102.0</td>\n",
       "      <td>66.5</td>\n",
       "      <td>25.68</td>\n",
       "      <td>100.0</td>\n",
       "      <td>100.0</td>\n",
       "    </tr>\n",
       "    <tr>\n",
       "      <th>1953</th>\n",
       "      <td>1</td>\n",
       "      <td>46</td>\n",
       "      <td>1.0</td>\n",
       "      <td>0</td>\n",
       "      <td>0.0</td>\n",
       "      <td>0.0</td>\n",
       "      <td>0</td>\n",
       "      <td>0</td>\n",
       "      <td>0</td>\n",
       "      <td>222.0</td>\n",
       "      <td>120.5</td>\n",
       "      <td>73.5</td>\n",
       "      <td>27.23</td>\n",
       "      <td>77.0</td>\n",
       "      <td>60.0</td>\n",
       "    </tr>\n",
       "    <tr>\n",
       "      <th>607</th>\n",
       "      <td>0</td>\n",
       "      <td>54</td>\n",
       "      <td>1.0</td>\n",
       "      <td>0</td>\n",
       "      <td>0.0</td>\n",
       "      <td>0.0</td>\n",
       "      <td>0</td>\n",
       "      <td>1</td>\n",
       "      <td>0</td>\n",
       "      <td>287.0</td>\n",
       "      <td>145.0</td>\n",
       "      <td>91.0</td>\n",
       "      <td>23.81</td>\n",
       "      <td>68.0</td>\n",
       "      <td>83.0</td>\n",
       "    </tr>\n",
       "    <tr>\n",
       "      <th>2541</th>\n",
       "      <td>0</td>\n",
       "      <td>48</td>\n",
       "      <td>3.0</td>\n",
       "      <td>1</td>\n",
       "      <td>9.0</td>\n",
       "      <td>0.0</td>\n",
       "      <td>0</td>\n",
       "      <td>1</td>\n",
       "      <td>0</td>\n",
       "      <td>266.0</td>\n",
       "      <td>155.0</td>\n",
       "      <td>100.0</td>\n",
       "      <td>27.86</td>\n",
       "      <td>75.0</td>\n",
       "      <td>84.0</td>\n",
       "    </tr>\n",
       "    <tr>\n",
       "      <th>964</th>\n",
       "      <td>0</td>\n",
       "      <td>39</td>\n",
       "      <td>2.0</td>\n",
       "      <td>1</td>\n",
       "      <td>15.0</td>\n",
       "      <td>0.0</td>\n",
       "      <td>0</td>\n",
       "      <td>0</td>\n",
       "      <td>0</td>\n",
       "      <td>284.0</td>\n",
       "      <td>115.5</td>\n",
       "      <td>65.5</td>\n",
       "      <td>20.39</td>\n",
       "      <td>64.0</td>\n",
       "      <td>78.0</td>\n",
       "    </tr>\n",
       "  </tbody>\n",
       "</table>\n",
       "<p>2926 rows × 15 columns</p>\n",
       "</div>"
      ],
      "text/plain": [
       "      male  age  education  currentSmoker  cigsPerDay  BPMeds  \\\n",
       "3492     1   38        1.0              1        30.0     0.0   \n",
       "990      1   39        2.0              0         0.0     0.0   \n",
       "3091     1   53        3.0              1        20.0     0.0   \n",
       "417      0   45        2.0              0         0.0     0.0   \n",
       "808      0   47        2.0              1        10.0     0.0   \n",
       "...    ...  ...        ...            ...         ...     ...   \n",
       "2005     1   36        1.0              1        15.0     0.0   \n",
       "1953     1   46        1.0              0         0.0     0.0   \n",
       "607      0   54        1.0              0         0.0     0.0   \n",
       "2541     0   48        3.0              1         9.0     0.0   \n",
       "964      0   39        2.0              1        15.0     0.0   \n",
       "\n",
       "      prevalentStroke  prevalentHyp  diabetes  totChol  sysBP  diaBP    BMI  \\\n",
       "3492                0             0         0    281.0  111.0   72.5  27.22   \n",
       "990                 0             0         0    247.0  113.0   80.0  28.59   \n",
       "3091                0             1         0    204.0  152.0   74.0  24.80   \n",
       "417                 0             1         0    304.0  148.0  106.0  22.98   \n",
       "808                 0             0         0    191.0  125.0   72.5  23.81   \n",
       "...               ...           ...       ...      ...    ...    ...    ...   \n",
       "2005                0             0         0    300.0  102.0   66.5  25.68   \n",
       "1953                0             0         0    222.0  120.5   73.5  27.23   \n",
       "607                 0             1         0    287.0  145.0   91.0  23.81   \n",
       "2541                0             1         0    266.0  155.0  100.0  27.86   \n",
       "964                 0             0         0    284.0  115.5   65.5  20.39   \n",
       "\n",
       "      heartRate  glucose  \n",
       "3492       95.0     80.0  \n",
       "990        80.0     82.0  \n",
       "3091       78.0     89.0  \n",
       "417        98.0     72.0  \n",
       "808        75.0     85.0  \n",
       "...         ...      ...  \n",
       "2005      100.0    100.0  \n",
       "1953       77.0     60.0  \n",
       "607        68.0     83.0  \n",
       "2541       75.0     84.0  \n",
       "964        64.0     78.0  \n",
       "\n",
       "[2926 rows x 15 columns]"
      ]
     },
     "execution_count": 7,
     "metadata": {},
     "output_type": "execute_result"
    }
   ],
   "source": [
    "X_train"
   ]
  },
  {
   "cell_type": "code",
   "execution_count": 8,
   "id": "9f115733-7a42-4bc6-87bc-b7e7e9874b37",
   "metadata": {},
   "outputs": [
    {
     "data": {
      "text/plain": [
       "3492    0\n",
       "990     0\n",
       "3091    0\n",
       "417     0\n",
       "808     0\n",
       "       ..\n",
       "2005    0\n",
       "1953    0\n",
       "607     0\n",
       "2541    0\n",
       "964     0\n",
       "Name: TenYearCHD, Length: 2926, dtype: int64"
      ]
     },
     "execution_count": 8,
     "metadata": {},
     "output_type": "execute_result"
    }
   ],
   "source": [
    "Y_train"
   ]
  },
  {
   "cell_type": "markdown",
   "id": "866dba3a-2774-417d-ab9d-33090d3ba182",
   "metadata": {},
   "source": [
    "Lets have a look at alll the created parts of the dataset. \n",
    "* X (all rows of feature columns),\n",
    "* Y (all rows of label column),\n",
    "* X_train (training rows of feature columns),\n",
    "* X_test (testing rows of feature columns),\n",
    "* Y_train (training rows of label column),\n",
    "* Y_test (testing rows of label column)"
   ]
  },
  {
   "cell_type": "markdown",
   "id": "0b63c55f-6868-4fb2-97fd-e89cb30ecb74",
   "metadata": {},
   "source": [
    "### Section 3: Model Selection & Training"
   ]
  },
  {
   "cell_type": "markdown",
   "id": "a196b9cc-d196-4755-959d-b5269d1bf8e2",
   "metadata": {},
   "source": [
    "Now, we define both the set of models we will use as well as the error function.<br>\n",
    "We will introduce 3 classification models in our project, to compare their performances and choose the best possible outcome."
   ]
  },
  {
   "cell_type": "code",
   "execution_count": 9,
   "id": "96d07864-cff5-48ff-8539-1c700f094f38",
   "metadata": {},
   "outputs": [],
   "source": [
    "from sklearn.model_selection import cross_val_score\n",
    "from sklearn.svm import SVC\n",
    "from sklearn.naive_bayes import GaussianNB\n",
    "from sklearn.ensemble import RandomForestClassifier\n",
    "from sklearn.metrics import accuracy_score,confusion_matrix"
   ]
  },
  {
   "cell_type": "markdown",
   "id": "49af7be7-3173-47e0-8a73-69e23d3c6baa",
   "metadata": {},
   "source": [
    "The below function is to test the accuracy of predictions for any particular \"True value\".<br>\n",
    "This is introduced due to suspicion of biased desicion making, as mentioned earlier."
   ]
  },
  {
   "cell_type": "code",
   "execution_count": 10,
   "id": "d44f806e-f7a8-4f92-983e-30981083f83a",
   "metadata": {},
   "outputs": [],
   "source": [
    "def bayes(A,B,x,y):\n",
    "    t=0\n",
    "    c=0\n",
    "    for a,b in zip(A,B):\n",
    "        if b==y:\n",
    "            t+=1\n",
    "            if a==x:\n",
    "                c+=1\n",
    "    return float(c)/float(t)"
   ]
  },
  {
   "cell_type": "code",
   "execution_count": 11,
   "id": "22f19d35-9ec5-4536-8537-b4576203a396",
   "metadata": {},
   "outputs": [],
   "source": [
    "def cv_scoring(estimator,X,Y):\n",
    "    return accuracy_score(Y,estimator.predict(X))"
   ]
  },
  {
   "cell_type": "code",
   "execution_count": 12,
   "id": "10578f1b-38f8-427e-be02-92f2f465f756",
   "metadata": {},
   "outputs": [],
   "source": [
    "models = {\n",
    "    \"SVC\" : SVC(),\n",
    "    \"GaussNB\" : GaussianNB(),\n",
    "    \"RFC\" : RandomForestClassifier(random_state=18)\n",
    "}"
   ]
  },
  {
   "cell_type": "code",
   "execution_count": 13,
   "id": "884c1260-6a9c-4e73-a4d8-fc76d5d21467",
   "metadata": {},
   "outputs": [
    {
     "name": "stdout",
     "output_type": "stream",
     "text": [
      "============================================================\n",
      "SVC\n",
      "Scores: [0.84836066 0.84699454 0.84699454 0.84815321 0.84678523]\n",
      "Mean Score: 0.8474576334536865\n",
      "============================================================\n",
      "GaussNB\n",
      "Scores: [0.81967213 0.82923497 0.82923497 0.81532148 0.82079343]\n",
      "Mean Score: 0.8228513975166887\n",
      "============================================================\n",
      "RFC\n",
      "Scores: [0.84562842 0.83743169 0.84699454 0.85088919 0.84678523]\n",
      "Mean Score: 0.8455458126826789\n"
     ]
    }
   ],
   "source": [
    "for model_name in models:\n",
    "    model = models[model_name]\n",
    "    scores = cross_val_score(model,X,Y,cv=5, scoring = cv_scoring)\n",
    "    print(\"==\"*30) \n",
    "    print(model_name) \n",
    "    print(f\"Scores: {scores}\") \n",
    "    print(f\"Mean Score: {np.mean(scores)}\")"
   ]
  },
  {
   "cell_type": "markdown",
   "id": "8c0621e0-b151-46ec-a82b-585702a8285a",
   "metadata": {},
   "source": [
    "As we can see, all three models make reasonable & nearly equally accurate predictions.<br>\n",
    "But, can we dive deeper into these predictions?<br>\n",
    "\n",
    "It is a important task to make good predictions in the medical field, because a person's life may depend on what just seems a number to us."
   ]
  },
  {
   "cell_type": "markdown",
   "id": "7eb32087-38c2-4fb4-8f37-35e8646ae921",
   "metadata": {},
   "source": [
    "Lets test the accuracy of each model, for when the actual values is known."
   ]
  },
  {
   "cell_type": "code",
   "execution_count": 14,
   "id": "dab35bda-cf69-4326-8056-e663758e7f51",
   "metadata": {},
   "outputs": [
    {
     "name": "stdout",
     "output_type": "stream",
     "text": [
      "Accuracy on train data by SVM Classifier: 84.83%\n",
      "Bayes on 1/1 by SVM Classifier:  0.672645739910314 %\n",
      "Bayes on 0/0 by SVM Classifier:  99.95967741935485 %\n",
      "Accuracy on test data by SVM Classifier: 84.70%\n",
      "Bayes on 1/1 by SVM Classifier:  0.9009009009009009 %\n",
      "Bayes on 0/0 by SVM Classifier:  99.6779388083736 %\n"
     ]
    },
    {
     "data": {
      "image/png": "[encoded data removed]",
      "text/plain": [
       "<Figure size 800x600 with 2 Axes>"
      ]
     },
     "metadata": {},
     "output_type": "display_data"
    }
   ],
   "source": [
    "svm_model = SVC()\n",
    "svm_model.fit(X_train,Y_train)\n",
    "preds = svm_model.predict(X_test)\n",
    "\n",
    "train_accuracy = accuracy_score(Y_train, svm_model.predict(X_train)) * 100\n",
    "print(f\"Accuracy on train data by SVM Classifier: {train_accuracy:.2f}%\")\n",
    "print(\"Bayes on 1/1 by SVM Classifier: \",bayes(svm_model.predict(X_train),Y_train,1,1)*100,\"%\")\n",
    "print(\"Bayes on 0/0 by SVM Classifier: \",bayes(svm_model.predict(X_train),Y_train,0,0)*100,\"%\")\n",
    "\n",
    "test_accuracy = accuracy_score(Y_test, preds) * 100\n",
    "print(f\"Accuracy on test data by SVM Classifier: {test_accuracy:.2f}%\")\n",
    "print(\"Bayes on 1/1 by SVM Classifier: \",bayes(svm_model.predict(X_test),Y_test,1,1)*100,\"%\")\n",
    "print(\"Bayes on 0/0 by SVM Classifier: \",bayes(svm_model.predict(X_test),Y_test,0,0)*100,\"%\")\n",
    "\n",
    "cf_matrix = confusion_matrix(Y_test, preds) \n",
    "plt.figure(figsize=(8,6))\n",
    "plt.title(\"Confusion Matrix for SVM Classifier on Test Data\") \n",
    "sns.heatmap(cf_matrix,annot=True)\n",
    "plt.show()"
   ]
  },
  {
   "cell_type": "markdown",
   "id": "0fca0101-56fb-47a0-8fda-e315e8babf48",
   "metadata": {},
   "source": [
    "As we noticed earlier, the accuracy is a decent 84%.<br>\n",
    "But, there is one more detail that comes to notice, that is - <br>\n",
    "\n",
    "The performance of the model is **extremely poor** when it comes to predicting someone prone to a heart disease.<br>\n",
    "The accuracy being a extremely low **0.67%**"
   ]
  },
  {
   "cell_type": "markdown",
   "id": "35870598-33ea-4aa9-927f-c94c104da842",
   "metadata": {},
   "source": [
    "This detail is a concerning fault of our model, because failing to recognise a person's probable illness may lead to delays in treatment, which may prove to have **severe concequences**."
   ]
  },
  {
   "cell_type": "markdown",
   "id": "78176364-5d78-4aa3-b6c8-3ca1ed821df5",
   "metadata": {},
   "source": [
    "Lets check how the other models are performing in this regard."
   ]
  },
  {
   "cell_type": "code",
   "execution_count": 15,
   "id": "41609cd5-5d1f-405d-9fe7-db37a80284df",
   "metadata": {},
   "outputs": [
    {
     "name": "stdout",
     "output_type": "stream",
     "text": [
      "Accuracy on train data by Random Forest Classifier: 100.00%\n",
      "Bayes on 1/1 by RF Classifier:  100.0 %\n",
      "Bayes on 0/0 by RF Classifier:  100.0 %\n",
      "Accuracy on test data by Random Forest Classifier: 84.70%\n",
      "Bayes on 1/1 by RF Classifier:  8.108108108108109 %\n",
      "Bayes on 0/0 by RF Classifier:  98.38969404186795 %\n"
     ]
    },
    {
     "data": {
      "image/png": "[encoded data removed]",
      "text/plain": [
       "<Figure size 800x600 with 2 Axes>"
      ]
     },
     "metadata": {},
     "output_type": "display_data"
    }
   ],
   "source": [
    "rf_model = RandomForestClassifier(random_state=18) \n",
    "rf_model.fit(X_train, Y_train) \n",
    "preds = rf_model.predict(X_test) \n",
    "\n",
    "train_accuracy = accuracy_score(Y_train, rf_model.predict(X_train)) * 100\n",
    "print(f\"Accuracy on train data by Random Forest Classifier: {train_accuracy:.2f}%\")\n",
    "print(\"Bayes on 1/1 by RF Classifier: \",bayes(rf_model.predict(X_train),Y_train,1,1)*100,\"%\")\n",
    "print(\"Bayes on 0/0 by RF Classifier: \",bayes(rf_model.predict(X_train),Y_train,0,0)*100,\"%\")\n",
    "  \n",
    "test_accuracy = accuracy_score(Y_test, rf_model.predict(X_test)) * 100\n",
    "print(f\"Accuracy on test data by Random Forest Classifier: {test_accuracy:.2f}%\")\n",
    "print(\"Bayes on 1/1 by RF Classifier: \",bayes(rf_model.predict(X_test),Y_test,1,1)*100,\"%\")\n",
    "print(\"Bayes on 0/0 by RF Classifier: \",bayes(rf_model.predict(X_test),Y_test,0,0)*100,\"%\")\n",
    "\n",
    "cf_matrix = confusion_matrix(Y_test, preds) \n",
    "plt.figure(figsize=(8,6))\n",
    "plt.title(\"Confusion Matrix for Random Forest Classifier on Test Data\") \n",
    "sns.heatmap(cf_matrix,annot=True)\n",
    "plt.show()"
   ]
  },
  {
   "cell_type": "markdown",
   "id": "645e188c-9f50-49c2-8049-b7e10cabbe5e",
   "metadata": {},
   "source": [
    "While the results of the RFC model is much better for detecting illnesses, while maintaining a similar overall and healthy person predicting capability,\n",
    "the accuracy is still far too low than what is desired.<br>\n",
    "Lets have a look at our last model."
   ]
  },
  {
   "cell_type": "code",
   "execution_count": 16,
   "id": "c3a0030e-ff5a-4a03-9bdc-f28581d1e1cd",
   "metadata": {},
   "outputs": [
    {
     "name": "stdout",
     "output_type": "stream",
     "text": [
      "Accuracy on train data by GaussianNB Classifier: 82.37%\n",
      "Bayes on 1/1 by GaaussNB Classifier:  23.094170403587444 %\n",
      "Bayes on 0/0 by GaaussNB Classifier:  93.0241935483871 %\n",
      "Accuracy on test data by GaussianNB Classifier: 82.10%\n",
      "Bayes on 1/1 by GaaussNB Classifier:  22.52252252252252 %\n",
      "Bayes on 0/0 by GaaussNB Classifier:  92.7536231884058 %\n"
     ]
    },
    {
     "data": {
      "image/png": "[encoded data removed]",
      "text/plain": [
       "<Figure size 800x600 with 2 Axes>"
      ]
     },
     "metadata": {},
     "output_type": "display_data"
    }
   ],
   "source": [
    "nb_model = GaussianNB()\n",
    "nb_model.fit(X_train,Y_train)\n",
    "preds = nb_model.predict(X_test)\n",
    "\n",
    "train_accuracy = accuracy_score(Y_train, nb_model.predict(X_train))*100\n",
    "print(f\"Accuracy on train data by GaussianNB Classifier: {train_accuracy:.2f}%\")\n",
    "print(\"Bayes on 1/1 by GaaussNB Classifier: \",bayes(nb_model.predict(X_train),Y_train,1,1)*100,\"%\")\n",
    "print(\"Bayes on 0/0 by GaaussNB Classifier: \",bayes(nb_model.predict(X_train),Y_train,0,0)*100,\"%\")\n",
    "\n",
    "test_accuracy = accuracy_score(Y_test, nb_model.predict(X_test)) * 100\n",
    "print(f\"Accuracy on test data by GaussianNB Classifier: {test_accuracy:.2f}%\")\n",
    "print(\"Bayes on 1/1 by GaaussNB Classifier: \",bayes(nb_model.predict(X_test),Y_test,1,1)*100,\"%\")\n",
    "print(\"Bayes on 0/0 by GaaussNB Classifier: \",bayes(nb_model.predict(X_test),Y_test,0,0)*100,\"%\")\n",
    "\n",
    "cf_matrix = confusion_matrix(Y_test, preds) \n",
    "plt.figure(figsize=(8,6))\n",
    "plt.title(\"Confusion Matrix for Naive Bayes Classifier on Test Data\") \n",
    "sns.heatmap(cf_matrix,annot=True)\n",
    "plt.show()"
   ]
  },
  {
   "cell_type": "markdown",
   "id": "54a45dff-4b92-444d-bb4b-7614f91bba7e",
   "metadata": {},
   "source": [
    "While the results of the GaussianNB model is much better than RFC model for detecting illnesses, it has a significant drop in accuracy of detecting healthy people, and the accuracy is still far too low than what is desired."
   ]
  },
  {
   "cell_type": "markdown",
   "id": "e5734969-6809-4417-8c4e-740b65bbe806",
   "metadata": {},
   "source": [
    "### Section 4: Prediction Combination / Finalization"
   ]
  },
  {
   "cell_type": "markdown",
   "id": "b7b0b00e-0008-482e-b542-6ab39eba68c2",
   "metadata": {},
   "source": [
    "We have yet acheived the highest accuracy of 22% for detecting people with potential heart diseases in the future.<br>\n",
    "\n",
    "One way to improve this percentage would be the combine the predictions of all 3 models, and considering the overall prediction to be 1,<br> if atleast one or more predictions is 1."
   ]
  },
  {
   "cell_type": "markdown",
   "id": "73eaec79-95d8-4d86-9b48-522f4d6e24ef",
   "metadata": {},
   "source": [
    "Why? because the chance of all three predictions being 0, when the actual value is 1,<br> would be between\n",
    "**22% and 30%** <BR>\n",
    "\n",
    "0.99  * 0.92  * 0.77 = { 0.3 } <BR>\n",
    "{ [P(0|1) - svm] * [P(0|1) - rfc] * [P(0|1) - gnb] }\n",
    "\n",
    "The percentage would've been 30% if all three predicions were iid, but they are not. So the percentage is less than 30%, but more than 22%<br>\n",
    "Lets have a look at the results we get."
   ]
  },
  {
   "cell_type": "code",
   "execution_count": 17,
   "id": "bfe0e9fa-5693-456f-9bc7-6b3d0f52925a",
   "metadata": {},
   "outputs": [],
   "source": [
    "nb_pred = nb_model.predict(X_test)\n",
    "rf_pred = rf_model.predict(X_test)\n",
    "svm_pred = svm_model.predict(X_test)\n",
    "coll = [[i,j,k] for i,j,k in zip(nb_pred,rf_pred,svm_pred)]\n",
    "final_pred = [max(i) for i in coll]"
   ]
  },
  {
   "cell_type": "code",
   "execution_count": 18,
   "id": "efa09cac-a113-4da6-9746-6b50968e0efd",
   "metadata": {},
   "outputs": [
    {
     "data": {
      "text/plain": [
       "0.8169398907103825"
      ]
     },
     "execution_count": 18,
     "metadata": {},
     "output_type": "execute_result"
    }
   ],
   "source": [
    "test_accuracy = accuracy_score(Y_test, final_pred)\n",
    "test_accuracy"
   ]
  },
  {
   "cell_type": "code",
   "execution_count": 19,
   "id": "9cae4613-afbb-484d-a3c1-d81723fa4aa3",
   "metadata": {},
   "outputs": [
    {
     "data": {
      "text/plain": [
       "25.225225225225223"
      ]
     },
     "execution_count": 19,
     "metadata": {},
     "output_type": "execute_result"
    }
   ],
   "source": [
    "bayes(final_pred,Y_test,1,1)*100"
   ]
  },
  {
   "cell_type": "code",
   "execution_count": 20,
   "id": "4f86698c-5fbe-497b-bec1-5cac9ec70d8c",
   "metadata": {},
   "outputs": [
    {
     "data": {
      "text/plain": [
       "91.78743961352657"
      ]
     },
     "execution_count": 20,
     "metadata": {},
     "output_type": "execute_result"
    }
   ],
   "source": [
    "bayes(final_pred,Y_test,0,0)*100"
   ]
  },
  {
   "cell_type": "markdown",
   "id": "6912d683-f63c-4129-ac55-ca1bb00576e2",
   "metadata": {},
   "source": [
    "Our efforts have led the accuracy to rise from 22% to 25%.<br>\n",
    "While any rise in accuracy would be effective in helping more people in need of immediate help, the accuracy still needs to be higher than what it is as of now."
   ]
  },
  {
   "cell_type": "markdown",
   "id": "85a960d5-cf5d-443d-9485-6a1f316aa775",
   "metadata": {},
   "source": [
    "We know, a Regression Model wont be making a 0 or 1 classification. But we can use Regression to help with some predictions."
   ]
  },
  {
   "cell_type": "markdown",
   "id": "d23eb888-3ca9-4471-ba80-684e92ca21b9",
   "metadata": {},
   "source": [
    "Logic: The higher the value of the Regression Prediction, the more likely it is for the actual value to be equal to 1.<br>\n",
    "So, we can set a threshold. If the predicted value is more than that value, the prediction would be considered to be 1, else it will be considered 0"
   ]
  },
  {
   "cell_type": "markdown",
   "id": "40dace72-1f01-4b3c-aafb-2662b74a89f0",
   "metadata": {},
   "source": [
    "Lets use **RandomForestRegressor** for this purpose"
   ]
  },
  {
   "cell_type": "code",
   "execution_count": 21,
   "id": "b40227ee-9196-4054-a2f3-08ce0c2fe59c",
   "metadata": {},
   "outputs": [
    {
     "data": {
      "text/html": [
       "<style>#sk-container-id-1 {color: black;background-color: white;}#sk-container-id-1 pre{padding: 0;}#sk-container-id-1 div.sk-toggleable {background-color: white;}#sk-container-id-1 label.sk-toggleable__label {cursor: pointer;display: block;width: 100%;margin-bottom: 0;padding: 0.3em;box-sizing: border-box;text-align: center;}#sk-container-id-1 label.sk-toggleable__label-arrow:before {content: \"▸\";float: left;margin-right: 0.25em;color: #696969;}#sk-container-id-1 label.sk-toggleable__label-arrow:hover:before {color: black;}#sk-container-id-1 div.sk-estimator:hover label.sk-toggleable__label-arrow:before {color: black;}#sk-container-id-1 div.sk-toggleable__content {max-height: 0;max-width: 0;overflow: hidden;text-align: left;background-color: #f0f8ff;}#sk-container-id-1 div.sk-toggleable__content pre {margin: 0.2em;color: black;border-radius: 0.25em;background-color: #f0f8ff;}#sk-container-id-1 input.sk-toggleable__control:checked~div.sk-toggleable__content {max-height: 200px;max-width: 100%;overflow: auto;}#sk-container-id-1 input.sk-toggleable__control:checked~label.sk-toggleable__label-arrow:before {content: \"▾\";}#sk-container-id-1 div.sk-estimator input.sk-toggleable__control:checked~label.sk-toggleable__label {background-color: #d4ebff;}#sk-container-id-1 div.sk-label input.sk-toggleable__control:checked~label.sk-toggleable__label {background-color: #d4ebff;}#sk-container-id-1 input.sk-hidden--visually {border: 0;clip: rect(1px 1px 1px 1px);clip: rect(1px, 1px, 1px, 1px);height: 1px;margin: -1px;overflow: hidden;padding: 0;position: absolute;width: 1px;}#sk-container-id-1 div.sk-estimator {font-family: monospace;background-color: #f0f8ff;border: 1px dotted black;border-radius: 0.25em;box-sizing: border-box;margin-bottom: 0.5em;}#sk-container-id-1 div.sk-estimator:hover {background-color: #d4ebff;}#sk-container-id-1 div.sk-parallel-item::after {content: \"\";width: 100%;border-bottom: 1px solid gray;flex-grow: 1;}#sk-container-id-1 div.sk-label:hover label.sk-toggleable__label {background-color: #d4ebff;}#sk-container-id-1 div.sk-serial::before {content: \"\";position: absolute;border-left: 1px solid gray;box-sizing: border-box;top: 0;bottom: 0;left: 50%;z-index: 0;}#sk-container-id-1 div.sk-serial {display: flex;flex-direction: column;align-items: center;background-color: white;padding-right: 0.2em;padding-left: 0.2em;position: relative;}#sk-container-id-1 div.sk-item {position: relative;z-index: 1;}#sk-container-id-1 div.sk-parallel {display: flex;align-items: stretch;justify-content: center;background-color: white;position: relative;}#sk-container-id-1 div.sk-item::before, #sk-container-id-1 div.sk-parallel-item::before {content: \"\";position: absolute;border-left: 1px solid gray;box-sizing: border-box;top: 0;bottom: 0;left: 50%;z-index: -1;}#sk-container-id-1 div.sk-parallel-item {display: flex;flex-direction: column;z-index: 1;position: relative;background-color: white;}#sk-container-id-1 div.sk-parallel-item:first-child::after {align-self: flex-end;width: 50%;}#sk-container-id-1 div.sk-parallel-item:last-child::after {align-self: flex-start;width: 50%;}#sk-container-id-1 div.sk-parallel-item:only-child::after {width: 0;}#sk-container-id-1 div.sk-dashed-wrapped {border: 1px dashed gray;margin: 0 0.4em 0.5em 0.4em;box-sizing: border-box;padding-bottom: 0.4em;background-color: white;}#sk-container-id-1 div.sk-label label {font-family: monospace;font-weight: bold;display: inline-block;line-height: 1.2em;}#sk-container-id-1 div.sk-label-container {text-align: center;}#sk-container-id-1 div.sk-container {/* jupyter's `normalize.less` sets `[hidden] { display: none; }` but bootstrap.min.css set `[hidden] { display: none !important; }` so we also need the `!important` here to be able to override the default hidden behavior on the sphinx rendered scikit-learn.org. See: https://github.com/scikit-learn/scikit-learn/issues/21755 */display: inline-block !important;position: relative;}#sk-container-id-1 div.sk-text-repr-fallback {display: none;}</style><div id=\"sk-container-id-1\" class=\"sk-top-container\"><div class=\"sk-text-repr-fallback\"><pre>RandomForestRegressor()</pre><b>In a Jupyter environment, please rerun this cell to show the HTML representation or trust the notebook. <br />On GitHub, the HTML representation is unable to render, please try loading this page with nbviewer.org.</b></div><div class=\"sk-container\" hidden><div class=\"sk-item\"><div class=\"sk-estimator sk-toggleable\"><input class=\"sk-toggleable__control sk-hidden--visually\" id=\"sk-estimator-id-1\" type=\"checkbox\" checked><label for=\"sk-estimator-id-1\" class=\"sk-toggleable__label sk-toggleable__label-arrow\">RandomForestRegressor</label><div class=\"sk-toggleable__content\"><pre>RandomForestRegressor()</pre></div></div></div></div></div>"
      ],
      "text/plain": [
       "RandomForestRegressor()"
      ]
     },
     "execution_count": 21,
     "metadata": {},
     "output_type": "execute_result"
    }
   ],
   "source": [
    "from sklearn.ensemble import RandomForestRegressor\n",
    "rfg_model = RandomForestRegressor()\n",
    "rfg_model.fit(X_train,Y_train)"
   ]
  },
  {
   "cell_type": "markdown",
   "id": "bd172a85-7960-4f8e-a2a3-fea4ddaa24a2",
   "metadata": {},
   "source": [
    "Lets try out our approach with the threshold to be 0.25"
   ]
  },
  {
   "cell_type": "code",
   "execution_count": 22,
   "id": "e42612e9-8794-4839-b56b-5aaeae168d71",
   "metadata": {},
   "outputs": [],
   "source": [
    "rfg_pred = rfg_model.predict(X_test)\n",
    "rfg_pred = [ 1 if i>0.25 else 0 for i in rfg_pred ]"
   ]
  },
  {
   "cell_type": "code",
   "execution_count": 23,
   "id": "b6003ccb-81c5-488a-801b-2c73f5a11115",
   "metadata": {},
   "outputs": [
    {
     "data": {
      "text/plain": [
       "76.63934426229508"
      ]
     },
     "execution_count": 23,
     "metadata": {},
     "output_type": "execute_result"
    }
   ],
   "source": [
    "test_accuracy = accuracy_score(Y_test, rfg_pred)\n",
    "test_accuracy*100"
   ]
  },
  {
   "cell_type": "code",
   "execution_count": 24,
   "id": "e6ceb7e8-5b88-4315-b6bd-7ecba85e3bd8",
   "metadata": {},
   "outputs": [
    {
     "data": {
      "text/plain": [
       "49.549549549549546"
      ]
     },
     "execution_count": 24,
     "metadata": {},
     "output_type": "execute_result"
    }
   ],
   "source": [
    "bayes(rfg_pred,Y_test,1,1)*100"
   ]
  },
  {
   "cell_type": "code",
   "execution_count": 25,
   "id": "2c76899e-1c2b-4189-bea3-8e684787bcdf",
   "metadata": {},
   "outputs": [
    {
     "data": {
      "text/plain": [
       "81.48148148148148"
      ]
     },
     "execution_count": 25,
     "metadata": {},
     "output_type": "execute_result"
    }
   ],
   "source": [
    "bayes(rfg_pred,Y_test,0,0)*100"
   ]
  },
  {
   "cell_type": "markdown",
   "id": "8b7bac87-229c-4237-8fd4-80498013d74c",
   "metadata": {},
   "source": [
    "As we can see, the accuracy for this approach is much higher than the other 3 models, individually and combined.<br>\n",
    "If we add the new predictions to the previous 3 prediction combination, the accuracy for detecting possible disease would reach a even higher accuracy."
   ]
  },
  {
   "cell_type": "code",
   "execution_count": 26,
   "id": "fd4e2ba4-f792-42af-97d7-7401905f02a3",
   "metadata": {},
   "outputs": [],
   "source": [
    "abs_pred = [ max(i,j) for i,j in zip(final_pred, rfg_pred) ]"
   ]
  },
  {
   "cell_type": "code",
   "execution_count": 27,
   "id": "100c83ef-655a-4233-9838-9a108d4d8f88",
   "metadata": {},
   "outputs": [
    {
     "data": {
      "text/plain": [
       "75.27322404371584"
      ]
     },
     "execution_count": 27,
     "metadata": {},
     "output_type": "execute_result"
    }
   ],
   "source": [
    "test_accuracy = accuracy_score(Y_test, abs_pred)\n",
    "test_accuracy*100"
   ]
  },
  {
   "cell_type": "code",
   "execution_count": 28,
   "id": "21f819ae-68e0-432a-9ae2-e9c8bd9a027f",
   "metadata": {},
   "outputs": [
    {
     "data": {
      "text/plain": [
       "52.25225225225225"
      ]
     },
     "execution_count": 28,
     "metadata": {},
     "output_type": "execute_result"
    }
   ],
   "source": [
    "bayes(abs_pred,Y_test,1,1)*100"
   ]
  },
  {
   "cell_type": "code",
   "execution_count": 29,
   "id": "a62214fd-2512-4a19-b848-03ff8fa97f11",
   "metadata": {},
   "outputs": [
    {
     "data": {
      "text/plain": [
       "79.38808373590982"
      ]
     },
     "execution_count": 29,
     "metadata": {},
     "output_type": "execute_result"
    }
   ],
   "source": [
    "bayes(abs_pred,Y_test,0,0)*100"
   ]
  },
  {
   "cell_type": "markdown",
   "id": "478aee5b-be50-4a15-97b7-31760d39b519",
   "metadata": {},
   "source": [
    "##### Section 4.5: Accuracy Trade-off"
   ]
  },
  {
   "cell_type": "markdown",
   "id": "f1a8b4be-1bd5-43bb-ab35-37f6809d3b33",
   "metadata": {},
   "source": [
    "It is observable that increasing the accuracy for detecting people with possibility of developing diseases ( *bayes 1/1* ) comes with a decrease in accuracy of clearning people with no diseases ( *bayes 0/0* ).\n",
    "So, the desicion to take is how much accuracy would we like to sacrifise for each group of people."
   ]
  },
  {
   "cell_type": "markdown",
   "id": "3aa65d46-a45b-4804-b75d-7ce95cde3c92",
   "metadata": {},
   "source": [
    "Solution: We **prioritize the accuracy in predicting people who are likely of developing Heart disease**, over the accuracy in clearing people with low chances of disease."
   ]
  },
  {
   "cell_type": "markdown",
   "id": "dc69e792-3b86-4ea2-b616-123e3f236264",
   "metadata": {},
   "source": [
    "Logic: The value being predicted is \"Will the person sustain a Heart Disease in future ( within next 10 years )?\"<br>\n",
    "If it is predicted that the person will, it is more likely that a change in lifestyle, such as diet, exercise would be recommended. This has **no major side-effects**, unlike wrong medication.<br>\n",
    "Thus, is a heathy person is wrongly predicted to be at a risk, what happens is **they would have to follow a stricted lifestyle, which will still benifit them**.<br>\n",
    "\n",
    "While on the other hand, **a unhealthy person being wrongly predicted to be safe may lead to a Disease which could've been avoided.**\n",
    "\n",
    "So its better to prioritize the detection of risk than the clearance."
   ]
  },
  {
   "cell_type": "markdown",
   "id": "88cb8661-760a-4bac-aa45-d08257fe1702",
   "metadata": {},
   "source": [
    "We acheive a higher accuracy by lowering the threshold of *RandomForestRegressor* prediction"
   ]
  },
  {
   "cell_type": "code",
   "execution_count": 30,
   "id": "f4823aef-258a-4b19-9ad1-c1624e230272",
   "metadata": {},
   "outputs": [],
   "source": [
    "rfg_pred2 = rfg_model.predict(X_test)"
   ]
  },
  {
   "cell_type": "code",
   "execution_count": 31,
   "id": "56b28875-15d8-4078-a9b5-2d4efcf2f141",
   "metadata": {},
   "outputs": [],
   "source": [
    "rfg_det = [ 1 if i>0.1 else 0 for i in rfg_pred2 ]"
   ]
  },
  {
   "cell_type": "code",
   "execution_count": 32,
   "id": "0055d126-5da2-448a-8264-1af5f7cc3351",
   "metadata": {},
   "outputs": [
    {
     "data": {
      "text/plain": [
       "80.18018018018019"
      ]
     },
     "execution_count": 32,
     "metadata": {},
     "output_type": "execute_result"
    }
   ],
   "source": [
    "bayes(rfg_det,Y_test,1,1)*100"
   ]
  },
  {
   "cell_type": "code",
   "execution_count": 33,
   "id": "d15c31e3-5c9a-4776-a480-8858f4bda9a5",
   "metadata": {},
   "outputs": [
    {
     "data": {
      "text/plain": [
       "47.987117552334944"
      ]
     },
     "execution_count": 33,
     "metadata": {},
     "output_type": "execute_result"
    }
   ],
   "source": [
    "bayes(rfg_det,Y_test,0,0)*100"
   ]
  },
  {
   "cell_type": "code",
   "execution_count": 34,
   "id": "335c7e4c-99c7-4454-affc-3f95d5667eff",
   "metadata": {},
   "outputs": [],
   "source": [
    "final_preds = [ max(i,j) for i,j in zip(abs_pred, rfg_det) ]"
   ]
  },
  {
   "cell_type": "code",
   "execution_count": 35,
   "id": "8a6c423e-9197-47ca-b156-f7096374909f",
   "metadata": {},
   "outputs": [],
   "source": [
    "final_pred = [0]*len(final_preds)"
   ]
  },
  {
   "cell_type": "code",
   "execution_count": 36,
   "id": "d8dbb98f-c3c1-4866-9563-6f31ae3c632d",
   "metadata": {},
   "outputs": [
    {
     "data": {
      "text/plain": [
       "81.98198198198197"
      ]
     },
     "execution_count": 36,
     "metadata": {},
     "output_type": "execute_result"
    }
   ],
   "source": [
    "bayes(final_preds,Y_test,1,1)*100"
   ]
  },
  {
   "cell_type": "markdown",
   "id": "69b7a0ee-46a5-4bc9-9376-10a49f9b5b31",
   "metadata": {},
   "source": [
    "We are currently at a state where:\n",
    "* Accuracy of determing risk: 81%\n",
    "* Accuracy of determining safety: 46%"
   ]
  },
  {
   "cell_type": "markdown",
   "id": "baad3eac-01d9-4775-9133-d9d9825c514a",
   "metadata": {},
   "source": [
    "We have heavily sacrifised the accuracy of determining safe people. What we can do is to introduce a new parameter, to help with diagnosis of people predicted to be at risk.<br>\n",
    "This parameters would be High Risk/Low Risk, based on the value predicted by Regression.<br>\n",
    "We set the **threshold to be 0.2**, for which the **accuracy of risk prediction was shown to be 50%.**"
   ]
  },
  {
   "cell_type": "markdown",
   "id": "147ed46a-5517-4474-bbfc-a336e2426f5e",
   "metadata": {},
   "source": [
    "### Section 5: User-Model Interaction Space"
   ]
  },
  {
   "cell_type": "markdown",
   "id": "36d6a707-1c9e-47c5-86df-1c61993b4b77",
   "metadata": {},
   "source": [
    "Here, we define a user-interactive code which:\n",
    "* Asks the user if they want to predict or not.\n",
    "* if Yes, asks for the required values of related attributes.\n",
    "* Determines if observed person is in risk of developing heart disease or not.\n",
    "* If there is risk, provides additional information on degree of risk."
   ]
  },
  {
   "cell_type": "markdown",
   "id": "7161de53-fb32-4405-aea2-403ec2c8d92f",
   "metadata": {},
   "source": [
    "Before that, we fit all four required models with the entire dataset to improve the quality of predictions."
   ]
  },
  {
   "cell_type": "code",
   "execution_count": 37,
   "id": "86081050-fe5d-43bb-ae0b-c0079fe3fed3",
   "metadata": {},
   "outputs": [
    {
     "data": {
      "text/html": [
       "<style>#sk-container-id-2 {color: black;background-color: white;}#sk-container-id-2 pre{padding: 0;}#sk-container-id-2 div.sk-toggleable {background-color: white;}#sk-container-id-2 label.sk-toggleable__label {cursor: pointer;display: block;width: 100%;margin-bottom: 0;padding: 0.3em;box-sizing: border-box;text-align: center;}#sk-container-id-2 label.sk-toggleable__label-arrow:before {content: \"▸\";float: left;margin-right: 0.25em;color: #696969;}#sk-container-id-2 label.sk-toggleable__label-arrow:hover:before {color: black;}#sk-container-id-2 div.sk-estimator:hover label.sk-toggleable__label-arrow:before {color: black;}#sk-container-id-2 div.sk-toggleable__content {max-height: 0;max-width: 0;overflow: hidden;text-align: left;background-color: #f0f8ff;}#sk-container-id-2 div.sk-toggleable__content pre {margin: 0.2em;color: black;border-radius: 0.25em;background-color: #f0f8ff;}#sk-container-id-2 input.sk-toggleable__control:checked~div.sk-toggleable__content {max-height: 200px;max-width: 100%;overflow: auto;}#sk-container-id-2 input.sk-toggleable__control:checked~label.sk-toggleable__label-arrow:before {content: \"▾\";}#sk-container-id-2 div.sk-estimator input.sk-toggleable__control:checked~label.sk-toggleable__label {background-color: #d4ebff;}#sk-container-id-2 div.sk-label input.sk-toggleable__control:checked~label.sk-toggleable__label {background-color: #d4ebff;}#sk-container-id-2 input.sk-hidden--visually {border: 0;clip: rect(1px 1px 1px 1px);clip: rect(1px, 1px, 1px, 1px);height: 1px;margin: -1px;overflow: hidden;padding: 0;position: absolute;width: 1px;}#sk-container-id-2 div.sk-estimator {font-family: monospace;background-color: #f0f8ff;border: 1px dotted black;border-radius: 0.25em;box-sizing: border-box;margin-bottom: 0.5em;}#sk-container-id-2 div.sk-estimator:hover {background-color: #d4ebff;}#sk-container-id-2 div.sk-parallel-item::after {content: \"\";width: 100%;border-bottom: 1px solid gray;flex-grow: 1;}#sk-container-id-2 div.sk-label:hover label.sk-toggleable__label {background-color: #d4ebff;}#sk-container-id-2 div.sk-serial::before {content: \"\";position: absolute;border-left: 1px solid gray;box-sizing: border-box;top: 0;bottom: 0;left: 50%;z-index: 0;}#sk-container-id-2 div.sk-serial {display: flex;flex-direction: column;align-items: center;background-color: white;padding-right: 0.2em;padding-left: 0.2em;position: relative;}#sk-container-id-2 div.sk-item {position: relative;z-index: 1;}#sk-container-id-2 div.sk-parallel {display: flex;align-items: stretch;justify-content: center;background-color: white;position: relative;}#sk-container-id-2 div.sk-item::before, #sk-container-id-2 div.sk-parallel-item::before {content: \"\";position: absolute;border-left: 1px solid gray;box-sizing: border-box;top: 0;bottom: 0;left: 50%;z-index: -1;}#sk-container-id-2 div.sk-parallel-item {display: flex;flex-direction: column;z-index: 1;position: relative;background-color: white;}#sk-container-id-2 div.sk-parallel-item:first-child::after {align-self: flex-end;width: 50%;}#sk-container-id-2 div.sk-parallel-item:last-child::after {align-self: flex-start;width: 50%;}#sk-container-id-2 div.sk-parallel-item:only-child::after {width: 0;}#sk-container-id-2 div.sk-dashed-wrapped {border: 1px dashed gray;margin: 0 0.4em 0.5em 0.4em;box-sizing: border-box;padding-bottom: 0.4em;background-color: white;}#sk-container-id-2 div.sk-label label {font-family: monospace;font-weight: bold;display: inline-block;line-height: 1.2em;}#sk-container-id-2 div.sk-label-container {text-align: center;}#sk-container-id-2 div.sk-container {/* jupyter's `normalize.less` sets `[hidden] { display: none; }` but bootstrap.min.css set `[hidden] { display: none !important; }` so we also need the `!important` here to be able to override the default hidden behavior on the sphinx rendered scikit-learn.org. See: https://github.com/scikit-learn/scikit-learn/issues/21755 */display: inline-block !important;position: relative;}#sk-container-id-2 div.sk-text-repr-fallback {display: none;}</style><div id=\"sk-container-id-2\" class=\"sk-top-container\"><div class=\"sk-text-repr-fallback\"><pre>GaussianNB()</pre><b>In a Jupyter environment, please rerun this cell to show the HTML representation or trust the notebook. <br />On GitHub, the HTML representation is unable to render, please try loading this page with nbviewer.org.</b></div><div class=\"sk-container\" hidden><div class=\"sk-item\"><div class=\"sk-estimator sk-toggleable\"><input class=\"sk-toggleable__control sk-hidden--visually\" id=\"sk-estimator-id-2\" type=\"checkbox\" checked><label for=\"sk-estimator-id-2\" class=\"sk-toggleable__label sk-toggleable__label-arrow\">GaussianNB</label><div class=\"sk-toggleable__content\"><pre>GaussianNB()</pre></div></div></div></div></div>"
      ],
      "text/plain": [
       "GaussianNB()"
      ]
     },
     "execution_count": 37,
     "metadata": {},
     "output_type": "execute_result"
    }
   ],
   "source": [
    "rf_model.fit(X,Y)\n",
    "rfg_model.fit(X,Y)\n",
    "svm_model.fit(X,Y)\n",
    "nb_model.fit(X,Y)"
   ]
  },
  {
   "cell_type": "code",
   "execution_count": 38,
   "id": "420110b3-f8ec-46ae-9769-d4ed384cb6fc",
   "metadata": {},
   "outputs": [
    {
     "name": "stdout",
     "output_type": "stream",
     "text": [
      "Do you want to make any predictions?\n",
      "Enter 1 if Yes, else 0\n"
     ]
    },
    {
     "name": "stdin",
     "output_type": "stream",
     "text": [
      "Choice: 1\n"
     ]
    },
    {
     "name": "stdout",
     "output_type": "stream",
     "text": [
      "Choice is Yes (1)\n"
     ]
    },
    {
     "name": "stdin",
     "output_type": "stream",
     "text": [
      "Enter value of male:  5\n",
      "Enter value of age:  5\n",
      "Enter value of education:  5\n",
      "Enter value of currentSmoker:  5\n",
      "Enter value of cigsPerDay:  5\n",
      "Enter value of BPMeds:  5\n",
      "Enter value of prevalentStroke:  5\n",
      "Enter value of prevalentHyp:  5\n",
      "Enter value of diabetes:  5\n",
      "Enter value of totChol:  5\n",
      "Enter value of sysBP:  5\n",
      "Enter value of diaBP:  5\n",
      "Enter value of BMI:  5\n",
      "Enter value of heartRate:  5\n",
      "Enter value of glucose:  5\n"
     ]
    },
    {
     "name": "stdout",
     "output_type": "stream",
     "text": [
      "Reported Parameters:  [5.0, 5.0, 5.0, 5.0, 5.0, 5.0, 5.0, 5.0, 5.0, 5.0, 5.0, 5.0, 5.0, 5.0, 5.0]\n",
      "1 High Risk\n",
      "Do you want to make any more predictions?\n",
      "Enter 1 if Yes, else 0\n"
     ]
    },
    {
     "name": "stdin",
     "output_type": "stream",
     "text": [
      "Choice: 0\n"
     ]
    },
    {
     "name": "stdout",
     "output_type": "stream",
     "text": [
      "Choice is No (0)\n",
      "Exit Program\n",
      "Thank you for using our services.\n"
     ]
    }
   ],
   "source": [
    "c=0\n",
    "ques = [ i for i in features ]\n",
    "while True:\n",
    "    if c==0:\n",
    "        print(\"Do you want to make any predictions?\")\n",
    "    elif c>0:\n",
    "        print(\"Do you want to make any more predictions?\")\n",
    "    print(\"Enter 1 if Yes, else 0\")\n",
    "    a = int(input(\"Choice:\"))\n",
    "    if a!=0 and a!=1:\n",
    "        print(\"Invalid Choice\")\n",
    "    elif a==0:\n",
    "        print(\"Choice is No (0)\")\n",
    "        print(\"Exit Program\")\n",
    "        if c>0:\n",
    "            print(\"Thank you for using our services.\")\n",
    "        break\n",
    "    elif a==1:\n",
    "        print(\"Choice is Yes (1)\")\n",
    "        lst = []\n",
    "        for i in ques:\n",
    "            lst.append(float(input(f\"Enter value of {i}: \")))\n",
    "        df = pd.DataFrame([lst], columns=ques)\n",
    "        rfc_prediction = rf_model.predict(df)\n",
    "        gnb_prediction = nb_model.predict(df)\n",
    "        svm_prediction = svm_model.predict(df)\n",
    "        rfg_prediction = rfg_model.predict(df)\n",
    "        abs_prediction = [ 1 if i>0.1 else 0 for i in rfg_pred2 ]\n",
    "        final_prediction = [max(a,b,c,d) for a,b,c,d in zip(rfc_prediction,abs_prediction,gnb_prediction,svm_prediction)]\n",
    "        risk = \"\"\n",
    "        if rfg_prediction>0.4:\n",
    "            risk=\"High Risk\"\n",
    "        elif rfg_prediction>0.2:\n",
    "            risk=\"Medium Risk\"\n",
    "        elif rfg_prediction<0.2:\n",
    "            risk=\"Row Risk\"\n",
    "        print(\"Reported Parameters: \",lst)\n",
    "        print(final_prediction[0],risk)\n",
    "        c+=1\n",
    "            "
   ]
  },
  {
   "cell_type": "markdown",
   "id": "8a2841d6-1e82-436d-8176-38bffe502e62",
   "metadata": {},
   "source": [
    "Since all our models have been defined, and set to actively accept provided data and provide predictions,<br> our program is ready to use and the project is complete"
   ]
  },
  {
   "cell_type": "markdown",
   "id": "c97bc8ed-5f0e-4a46-a95c-b95574c18acf",
   "metadata": {},
   "source": [
    "### Conclusion"
   ]
  },
  {
   "cell_type": "markdown",
   "id": "6a56e1ad-5117-4b49-aa99-dc2bb4f982a8",
   "metadata": {},
   "source": [
    "This marks the end of our Project.\n",
    "\n",
    "This program assists us predicting if a person is at risk of developing a heart disease within the next 10 years.<br>\n",
    "We acheived this by using 4 separate models and combining their predictions to create a final prediction (max strategy), and use one of the models to report additional information about the degree of risk if there is any.\n",
    "\n",
    "We noticed that the maximum accuracy of predicting people at risk goes up to **85%**, while sacrifising the accuracy of no-risk detection, dropping it to **50%**.<br> This trade-off was allowed due to the low risk treatment methods followed when a \"disease-to-be\" is concerned, especially over a long term period of 10 years."
   ]
  }
 ],
 "metadata": {
  "kernelspec": {
   "display_name": "Python 3 (ipykernel)",
   "language": "python",
   "name": "python3"
  },
  "language_info": {
   "codemirror_mode": {
    "name": "ipython",
    "version": 3
   },
   "file_extension": ".py",
   "mimetype": "text/x-python",
   "name": "python",
   "nbconvert_exporter": "python",
   "pygments_lexer": "ipython3",
   "version": "3.11.7"
  }
 },
 "nbformat": 4,
 "nbformat_minor": 5
}
